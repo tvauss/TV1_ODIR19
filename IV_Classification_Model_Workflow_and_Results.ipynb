{
  "nbformat": 4,
  "nbformat_minor": 0,
  "metadata": {
    "colab": {
      "provenance": [],
      "machine_shape": "hm",
      "authorship_tag": "ABX9TyNR74hb4HAcWRN1zhoURsz6",
      "include_colab_link": true
    },
    "kernelspec": {
      "name": "python3",
      "display_name": "Python 3"
    },
    "language_info": {
      "name": "python"
    },
    "accelerator": "GPU",
    "gpuClass": "premium"
  },
  "cells": [
    {
      "cell_type": "markdown",
      "metadata": {
        "id": "view-in-github",
        "colab_type": "text"
      },
      "source": [
        "<a href=\"https://colab.research.google.com/github/tvauss/TV1_ODIR19/blob/main/IV_Classification_Model_Workflow_and_Results.ipynb\" target=\"_parent\"><img src=\"https://colab.research.google.com/assets/colab-badge.svg\" alt=\"Open In Colab\"/></a>"
      ]
    },
    {
      "cell_type": "markdown",
      "source": [
        "# **Transfer Learning Model - Workflow and Results**\n",
        "\n",
        "This project was a collaborative project involving 2 other persons (see github pages here: https://github.com/okbabent).\n",
        "\n",
        "In order to set a classification model, we based our worked on transfer learning which re-used pre-trained models to apply it to our data.\n",
        "\n",
        "In order to simplify our work, all the results obtained using this method are not shown here but are discussed at the end of this notebook.\n",
        "\n",
        "However, the general workflow we used is described below.\n",
        "\n",
        "<b>1- Mount Google Drive files to access data: "
      ],
      "metadata": {
        "id": "JCUoLksPyn7O"
      }
    },
    {
      "cell_type": "code",
      "execution_count": null,
      "metadata": {
        "colab": {
          "base_uri": "https://localhost:8080/"
        },
        "id": "0Y_PG--iyiT0",
        "outputId": "04eb26a8-ddd7-4c3b-a7e6-4fc154ac9f5f"
      },
      "outputs": [
        {
          "output_type": "stream",
          "name": "stdout",
          "text": [
            "Drive already mounted at /content/drive; to attempt to forcibly remount, call drive.mount(\"/content/drive\", force_remount=True).\n"
          ]
        }
      ],
      "source": [
        "from google.colab import drive\n",
        "drive.mount('/content/drive' )"
      ]
    },
    {
      "cell_type": "markdown",
      "source": [
        "<b>2- Import necessary packages and modules:"
      ],
      "metadata": {
        "id": "FzHhDJaAy2gO"
      }
    },
    {
      "cell_type": "code",
      "source": [
        "import numpy as np\n",
        "import tensorflow as tf\n",
        "import matplotlib.pyplot as plt\n",
        "%matplotlib inline\n",
        "import itertools\n",
        "\n",
        "import json\n",
        "import codecs\n",
        "import os\n",
        "import pickle\n",
        "\n",
        "# Import models:\n",
        "from keras.applications.inception_v3 import InceptionV3\n",
        "from keras.applications.xception import Xception\n",
        "from keras.applications.vgg16 import VGG16\n",
        "from keras.applications.vgg19 import VGG19\n",
        "from keras.applications.resnet import ResNet50\n",
        "from keras.applications.resnet_v2 import ResNet50V2\n",
        "\n",
        "# Other imports used during this project: \n",
        "from keras.callbacks import ReduceLROnPlateau, EarlyStopping\n",
        "from keras.layers import Dense, Flatten, GlobalAveragePooling2D, Conv2D, ConvLSTM2D, Conv3D, MaxPooling2D, Dropout, MaxPooling3D\n",
        "from keras.losses import categorical_crossentropy, binary_crossentropy\n",
        "from keras.models import Model, Sequential\n",
        "from keras.regularizers import l2\n",
        "from keras.optimizers import Adam\n",
        "from keras.utils import plot_model\n",
        "from matplotlib import pyplot as plt\n",
        "from matplotlib import cm\n",
        "from sklearn.model_selection import train_test_split\n",
        "from sklearn import metrics\n",
        "from sklearn.metrics import confusion_matrix, ConfusionMatrixDisplay\n",
        "from sklearn.preprocessing import OneHotEncoder"
      ],
      "metadata": {
        "id": "6N6Zbur6ymAz"
      },
      "execution_count": null,
      "outputs": []
    },
    {
      "cell_type": "markdown",
      "source": [
        "<b>3- Set the constants related to the size of the image for our model:"
      ],
      "metadata": {
        "id": "0BImHU8dy772"
      }
    },
    {
      "cell_type": "code",
      "source": [
        "WIDTH = 224\n",
        "HEIGHT = 224"
      ],
      "metadata": {
        "id": "lq1ClmN-yl-D"
      },
      "execution_count": null,
      "outputs": []
    },
    {
      "cell_type": "markdown",
      "source": [
        "<b>4- Create a function to load our data:</b>\n",
        "\n",
        "This will load the numpy files created when converting the processed images into np files.\n",
        "<br><i>(see\n",
        "TV1_ODIR19/III-Image_processing/IIIc- Conversion to np files.ipynb)</i>"
      ],
      "metadata": {
        "id": "yjKhMFZLy_0m"
      }
    },
    {
      "cell_type": "code",
      "source": [
        "def load_data(file_x, file_y):\n",
        "\n",
        "    x = np.load('/content/drive/MyDrive/Colab Notebooks/Aug/'+file_x)\n",
        "    y = np.load('/content/drive/MyDrive/Colab Notebooks/Aug/'+file_y)\n",
        "    \n",
        "    ohe = OneHotEncoder()\n",
        "    y = ohe.fit_transform(y.reshape(-1,1)).toarray()\n",
        "     \n",
        "    return (x , y)"
      ],
      "metadata": {
        "id": "6v1UZGJ0zACr"
      },
      "execution_count": null,
      "outputs": []
    },
    {
      "cell_type": "markdown",
      "source": [
        "<b>5- Set the model: </b>\n",
        "\n",
        "Below we create a class called 'TransferLearningNN' allowing us to instantiate different pre-trained models of interest, among which: 'Xception', 'VGG16', 'VGG19', 'ResNet50', 'InceptionV3', 'InceptionResNetV2'."
      ],
      "metadata": {
        "id": "f9Ti90hvzIAy"
      }
    },
    {
      "cell_type": "code",
      "source": [
        "class TransferLearningNN:\n",
        "    def __init__(self, model_type, output_map, nb_neurons, nb_layers, dropout):\n",
        "        self.training_history = None\n",
        "        self.model_type = model_type\n",
        "        self.output_map = output_map\n",
        "        #self.plotter = Plotter(['Normal', 'Diabetes', 'Glaucoma', 'Cataract', 'AMD', 'Hypertension', 'Myopia', 'Others']) #, model_type=self.model_type)\n",
        "        self.y_pred = None\n",
        "        self.X_test = None\n",
        "        self.y_test = None\n",
        "        self.validation_data = None\n",
        "        self.defined_metrics = [tf.keras.metrics.BinaryAccuracy(name='accuracy'),tf.keras.metrics.Precision(name='precision'),tf.keras.metrics.Recall(name='recall'),tf.keras.metrics.AUC(name='auc')]\n",
        "        self._init_model(nb_neurons=nb_neurons, nb_layers=nb_layers, dropout_rate=dropout)\n",
        "\n",
        "    # Initiate model and add final layer \n",
        "    def _init_model(self, nb_layers=1, nb_neurons=1000, dropout_rate=0.5, activation='relu'):\n",
        "        base_model = self._get_base_model()\n",
        "        for layer in base_model.layers:\n",
        "            layer.trainable = True\n",
        "        x = base_model.output\n",
        "        x = GlobalAveragePooling2D()(x)\n",
        "        x = Dense(1024, activation='relu')(x)\n",
        "        if nb_layers<1 :\n",
        "            nb_layers = 1\n",
        "        for i_layer in range(nb_layers):\n",
        "            div = 2**i_layer\n",
        "            if (nb_neurons // (div))<128:\n",
        "                break\n",
        "            x = Dense(nb_neurons//(div), activation=activation)(x)\n",
        "            if dropout_rate!=0.0:\n",
        "                x = Dropout(rate=dropout_rate)(x)\n",
        "        predictions = Dense(8, activation='softmax')(x)\n",
        "        full_model = Model(inputs=base_model.input, outputs=predictions)\n",
        "        self.model = full_model\n",
        "\n",
        "    # Choose the model of interest:  \n",
        "    def _get_base_model(self):\n",
        "        if self.model_type == 'inception_v3':\n",
        "            return InceptionV3(weights='imagenet', include_top=False,input_shape=(HEIGHT, WIDTH, 3))\n",
        "        elif self.model_type == 'xception':\n",
        "            return Xception(weights='imagenet', include_top=False,input_shape=(HEIGHT, WIDTH, 3))\n",
        "        elif self.model_type == 'vgg16':\n",
        "            return VGG16(weights='imagenet', include_top=False,input_shape=(HEIGHT, WIDTH, 3))\n",
        "        elif self.model_type == 'vgg19':\n",
        "            return VGG19(weights='imagenet', include_top=False,input_shape=(HEIGHT, WIDTH, 3))\n",
        "        elif self.model_type == 'resnet50':\n",
        "            return ResNet50(weights='imagenet', include_top=False,input_shape=(HEIGHT, WIDTH, 3))\n",
        "        else:\n",
        "            raise ValueError('Cannot find base model %s' % self.model_type)\n",
        "\n",
        "    # Define function to finally fit the model \n",
        "    # (with X being the image-related numpy files and y being the labels from our dataset):\n",
        "    def fit(self, X_train, y_train, X_test, y_test, epochs=50):\n",
        "        self.X_test = X_test\n",
        "        self.y_test = y_test\n",
        "        # Set optimizers of interest\n",
        "        optimize_adam = Adam(learning_rate=0.0001, beta_1=0.9, beta_2=0.999, epsilon=1e-7)\n",
        "        optimize_sgd = tf.keras.optimizers.legacy.SGD(learning_rate=0.001, decay=1e-6, momentum=0.9, nesterov=True)\n",
        "        # Compile model:\n",
        "        self.model.compile(optimizer=optimize_sgd, loss='categorical_crossentropy', metrics=self.defined_metrics)\n",
        "        # Model fitting:\n",
        "        self.training_history = self.model.fit(x=X_train, y=y_train, epochs=epochs, verbose=1,\n",
        "                                               callbacks=[ReduceLROnPlateau(), EarlyStopping(patience=3)],\n",
        "                                               shuffle=True, validation_data=(X_test, y_test))\n",
        "        # Sample test prediction: \n",
        "        self.y_pred = self.model.predict(x=X_test)\n",
        "\n",
        "    # Define a function to display the metrics from the test dataset: \n",
        "    def print_evaluation(self):\n",
        "        results = self.model.evaluate(self.X_test, self.y_test, verbose=2)\n",
        "        for name, value in zip(self.model.metrics_names, results):\n",
        "            print(name, ': ', value)\n",
        "        y_test_flat = self.y_test.flatten()\n",
        "        y_pred_flat = self.y_pred.flatten()\n",
        "        kappa = metrics.cohen_kappa_score(y_test_flat, y_pred_flat > 0.5)\n",
        "        f1 = metrics.f1_score(y_test_flat, y_pred_flat > 0.5, average='micro')\n",
        "        print('kappa: ', kappa)\n",
        "        print('F1_score: ', f1)"
      ],
      "metadata": {
        "id": "7uybAHQsOXKO"
      },
      "execution_count": null,
      "outputs": []
    },
    {
      "cell_type": "markdown",
      "source": [
        "<b>6- Load the data:</b>\n",
        "\n",
        "The data correspond to the numpy files previously created. \n",
        "\n",
        "<i>NB: Since 2 different sets of X_train and y_train data were previously created, np.vstack was used to 'concatenate' both X and y sets of 3-D arrays back together.</i>\n",
        "\n"
      ],
      "metadata": {
        "id": "P8X_g05aOdID"
      }
    },
    {
      "cell_type": "code",
      "source": [
        "(X_train_1, y_train_1)= load_data(file_x='X_Aug_train_1.npy', file_y='y_Aug_train_1.npy')\n",
        "(X_train_2, y_train_2)= load_data(file_x='X_Aug_train_2.npy', file_y='y_Aug_train_2.npy')\n",
        "(X_test, y_test)= load_data(file_x='X_Aug_test.npy', file_y='y_Aug_test.npy')\n",
        "# Compline X_train and y_train files\n",
        "X_train = np.vstack((X_train_1,X_train_2))\n",
        "y_train = np.vstack((y_train_1, y_train_2))"
      ],
      "metadata": {
        "id": "pFjK0vmNOXHi"
      },
      "execution_count": null,
      "outputs": []
    },
    {
      "cell_type": "markdown",
      "source": [
        "<b>7- Initiate the model:"
      ],
      "metadata": {
        "id": "wq5lI8zoOkFK"
      }
    },
    {
      "cell_type": "code",
      "source": [
        "model = TransferLearningNN(model_type='resnet50', output_map=[0,1,2,3,4,5,6,7], nb_neurons=1024, nb_layers = 1, dropout = 0.4)"
      ],
      "metadata": {
        "id": "lZFVn9CnOXEq"
      },
      "execution_count": null,
      "outputs": []
    },
    {
      "cell_type": "markdown",
      "source": [
        "<b>8- Save and show the model summary <i>(Optional)</i> : "
      ],
      "metadata": {
        "id": "OvKeSz7LkrkQ"
      }
    },
    {
      "cell_type": "code",
      "source": [
        "#Save the model:\n",
        "model.model.save('/content/drive/MyDrive/Colab Notebooks/model_17_10_resnet50_a.h5')\n",
        "\n",
        "#Show the model:\n",
        "\n",
        "#OPTION1: \n",
        "#from tensorflow.keras.utils import plot_model\n",
        "#plot_model(model.model)\n",
        "\n",
        "#OPTION2=\n",
        "from keras.models import load_model\n",
        "sum_model = load_model('/content/drive/MyDrive/Colab Notebooks/model_17_10_resnet50_a.h5')\n",
        "sum_model.summary()\n"
      ],
      "metadata": {
        "id": "VCBbUoUxOXCD",
        "colab": {
          "base_uri": "https://localhost:8080/"
        },
        "outputId": "40202095-abf3-42a1-c753-0761ca9eed2a"
      },
      "execution_count": null,
      "outputs": [
        {
          "output_type": "stream",
          "name": "stderr",
          "text": [
            "WARNING:tensorflow:Compiled the loaded model, but the compiled metrics have yet to be built. `model.compile_metrics` will be empty until you train or evaluate the model.\n",
            "WARNING:tensorflow:No training configuration found in the save file, so the model was *not* compiled. Compile it manually.\n"
          ]
        },
        {
          "output_type": "stream",
          "name": "stdout",
          "text": [
            "Model: \"model_1\"\n",
            "__________________________________________________________________________________________________\n",
            " Layer (type)                   Output Shape         Param #     Connected to                     \n",
            "==================================================================================================\n",
            " input_2 (InputLayer)           [(None, 224, 224, 3  0           []                               \n",
            "                                )]                                                                \n",
            "                                                                                                  \n",
            " conv1_pad (ZeroPadding2D)      (None, 230, 230, 3)  0           ['input_2[0][0]']                \n",
            "                                                                                                  \n",
            " conv1_conv (Conv2D)            (None, 112, 112, 64  9472        ['conv1_pad[0][0]']              \n",
            "                                )                                                                 \n",
            "                                                                                                  \n",
            " conv1_bn (BatchNormalization)  (None, 112, 112, 64  256         ['conv1_conv[0][0]']             \n",
            "                                )                                                                 \n",
            "                                                                                                  \n",
            " conv1_relu (Activation)        (None, 112, 112, 64  0           ['conv1_bn[0][0]']               \n",
            "                                )                                                                 \n",
            "                                                                                                  \n",
            " pool1_pad (ZeroPadding2D)      (None, 114, 114, 64  0           ['conv1_relu[0][0]']             \n",
            "                                )                                                                 \n",
            "                                                                                                  \n",
            " pool1_pool (MaxPooling2D)      (None, 56, 56, 64)   0           ['pool1_pad[0][0]']              \n",
            "                                                                                                  \n",
            " conv2_block1_1_conv (Conv2D)   (None, 56, 56, 64)   4160        ['pool1_pool[0][0]']             \n",
            "                                                                                                  \n",
            " conv2_block1_1_bn (BatchNormal  (None, 56, 56, 64)  256         ['conv2_block1_1_conv[0][0]']    \n",
            " ization)                                                                                         \n",
            "                                                                                                  \n",
            " conv2_block1_1_relu (Activatio  (None, 56, 56, 64)  0           ['conv2_block1_1_bn[0][0]']      \n",
            " n)                                                                                               \n",
            "                                                                                                  \n",
            " conv2_block1_2_conv (Conv2D)   (None, 56, 56, 64)   36928       ['conv2_block1_1_relu[0][0]']    \n",
            "                                                                                                  \n",
            " conv2_block1_2_bn (BatchNormal  (None, 56, 56, 64)  256         ['conv2_block1_2_conv[0][0]']    \n",
            " ization)                                                                                         \n",
            "                                                                                                  \n",
            " conv2_block1_2_relu (Activatio  (None, 56, 56, 64)  0           ['conv2_block1_2_bn[0][0]']      \n",
            " n)                                                                                               \n",
            "                                                                                                  \n",
            " conv2_block1_0_conv (Conv2D)   (None, 56, 56, 256)  16640       ['pool1_pool[0][0]']             \n",
            "                                                                                                  \n",
            " conv2_block1_3_conv (Conv2D)   (None, 56, 56, 256)  16640       ['conv2_block1_2_relu[0][0]']    \n",
            "                                                                                                  \n",
            " conv2_block1_0_bn (BatchNormal  (None, 56, 56, 256)  1024       ['conv2_block1_0_conv[0][0]']    \n",
            " ization)                                                                                         \n",
            "                                                                                                  \n",
            " conv2_block1_3_bn (BatchNormal  (None, 56, 56, 256)  1024       ['conv2_block1_3_conv[0][0]']    \n",
            " ization)                                                                                         \n",
            "                                                                                                  \n",
            " conv2_block1_add (Add)         (None, 56, 56, 256)  0           ['conv2_block1_0_bn[0][0]',      \n",
            "                                                                  'conv2_block1_3_bn[0][0]']      \n",
            "                                                                                                  \n",
            " conv2_block1_out (Activation)  (None, 56, 56, 256)  0           ['conv2_block1_add[0][0]']       \n",
            "                                                                                                  \n",
            " conv2_block2_1_conv (Conv2D)   (None, 56, 56, 64)   16448       ['conv2_block1_out[0][0]']       \n",
            "                                                                                                  \n",
            " conv2_block2_1_bn (BatchNormal  (None, 56, 56, 64)  256         ['conv2_block2_1_conv[0][0]']    \n",
            " ization)                                                                                         \n",
            "                                                                                                  \n",
            " conv2_block2_1_relu (Activatio  (None, 56, 56, 64)  0           ['conv2_block2_1_bn[0][0]']      \n",
            " n)                                                                                               \n",
            "                                                                                                  \n",
            " conv2_block2_2_conv (Conv2D)   (None, 56, 56, 64)   36928       ['conv2_block2_1_relu[0][0]']    \n",
            "                                                                                                  \n",
            " conv2_block2_2_bn (BatchNormal  (None, 56, 56, 64)  256         ['conv2_block2_2_conv[0][0]']    \n",
            " ization)                                                                                         \n",
            "                                                                                                  \n",
            " conv2_block2_2_relu (Activatio  (None, 56, 56, 64)  0           ['conv2_block2_2_bn[0][0]']      \n",
            " n)                                                                                               \n",
            "                                                                                                  \n",
            " conv2_block2_3_conv (Conv2D)   (None, 56, 56, 256)  16640       ['conv2_block2_2_relu[0][0]']    \n",
            "                                                                                                  \n",
            " conv2_block2_3_bn (BatchNormal  (None, 56, 56, 256)  1024       ['conv2_block2_3_conv[0][0]']    \n",
            " ization)                                                                                         \n",
            "                                                                                                  \n",
            " conv2_block2_add (Add)         (None, 56, 56, 256)  0           ['conv2_block1_out[0][0]',       \n",
            "                                                                  'conv2_block2_3_bn[0][0]']      \n",
            "                                                                                                  \n",
            " conv2_block2_out (Activation)  (None, 56, 56, 256)  0           ['conv2_block2_add[0][0]']       \n",
            "                                                                                                  \n",
            " conv2_block3_1_conv (Conv2D)   (None, 56, 56, 64)   16448       ['conv2_block2_out[0][0]']       \n",
            "                                                                                                  \n",
            " conv2_block3_1_bn (BatchNormal  (None, 56, 56, 64)  256         ['conv2_block3_1_conv[0][0]']    \n",
            " ization)                                                                                         \n",
            "                                                                                                  \n",
            " conv2_block3_1_relu (Activatio  (None, 56, 56, 64)  0           ['conv2_block3_1_bn[0][0]']      \n",
            " n)                                                                                               \n",
            "                                                                                                  \n",
            " conv2_block3_2_conv (Conv2D)   (None, 56, 56, 64)   36928       ['conv2_block3_1_relu[0][0]']    \n",
            "                                                                                                  \n",
            " conv2_block3_2_bn (BatchNormal  (None, 56, 56, 64)  256         ['conv2_block3_2_conv[0][0]']    \n",
            " ization)                                                                                         \n",
            "                                                                                                  \n",
            " conv2_block3_2_relu (Activatio  (None, 56, 56, 64)  0           ['conv2_block3_2_bn[0][0]']      \n",
            " n)                                                                                               \n",
            "                                                                                                  \n",
            " conv2_block3_3_conv (Conv2D)   (None, 56, 56, 256)  16640       ['conv2_block3_2_relu[0][0]']    \n",
            "                                                                                                  \n",
            " conv2_block3_3_bn (BatchNormal  (None, 56, 56, 256)  1024       ['conv2_block3_3_conv[0][0]']    \n",
            " ization)                                                                                         \n",
            "                                                                                                  \n",
            " conv2_block3_add (Add)         (None, 56, 56, 256)  0           ['conv2_block2_out[0][0]',       \n",
            "                                                                  'conv2_block3_3_bn[0][0]']      \n",
            "                                                                                                  \n",
            " conv2_block3_out (Activation)  (None, 56, 56, 256)  0           ['conv2_block3_add[0][0]']       \n",
            "                                                                                                  \n",
            " conv3_block1_1_conv (Conv2D)   (None, 28, 28, 128)  32896       ['conv2_block3_out[0][0]']       \n",
            "                                                                                                  \n",
            " conv3_block1_1_bn (BatchNormal  (None, 28, 28, 128)  512        ['conv3_block1_1_conv[0][0]']    \n",
            " ization)                                                                                         \n",
            "                                                                                                  \n",
            " conv3_block1_1_relu (Activatio  (None, 28, 28, 128)  0          ['conv3_block1_1_bn[0][0]']      \n",
            " n)                                                                                               \n",
            "                                                                                                  \n",
            " conv3_block1_2_conv (Conv2D)   (None, 28, 28, 128)  147584      ['conv3_block1_1_relu[0][0]']    \n",
            "                                                                                                  \n",
            " conv3_block1_2_bn (BatchNormal  (None, 28, 28, 128)  512        ['conv3_block1_2_conv[0][0]']    \n",
            " ization)                                                                                         \n",
            "                                                                                                  \n",
            " conv3_block1_2_relu (Activatio  (None, 28, 28, 128)  0          ['conv3_block1_2_bn[0][0]']      \n",
            " n)                                                                                               \n",
            "                                                                                                  \n",
            " conv3_block1_0_conv (Conv2D)   (None, 28, 28, 512)  131584      ['conv2_block3_out[0][0]']       \n",
            "                                                                                                  \n",
            " conv3_block1_3_conv (Conv2D)   (None, 28, 28, 512)  66048       ['conv3_block1_2_relu[0][0]']    \n",
            "                                                                                                  \n",
            " conv3_block1_0_bn (BatchNormal  (None, 28, 28, 512)  2048       ['conv3_block1_0_conv[0][0]']    \n",
            " ization)                                                                                         \n",
            "                                                                                                  \n",
            " conv3_block1_3_bn (BatchNormal  (None, 28, 28, 512)  2048       ['conv3_block1_3_conv[0][0]']    \n",
            " ization)                                                                                         \n",
            "                                                                                                  \n",
            " conv3_block1_add (Add)         (None, 28, 28, 512)  0           ['conv3_block1_0_bn[0][0]',      \n",
            "                                                                  'conv3_block1_3_bn[0][0]']      \n",
            "                                                                                                  \n",
            " conv3_block1_out (Activation)  (None, 28, 28, 512)  0           ['conv3_block1_add[0][0]']       \n",
            "                                                                                                  \n",
            " conv3_block2_1_conv (Conv2D)   (None, 28, 28, 128)  65664       ['conv3_block1_out[0][0]']       \n",
            "                                                                                                  \n",
            " conv3_block2_1_bn (BatchNormal  (None, 28, 28, 128)  512        ['conv3_block2_1_conv[0][0]']    \n",
            " ization)                                                                                         \n",
            "                                                                                                  \n",
            " conv3_block2_1_relu (Activatio  (None, 28, 28, 128)  0          ['conv3_block2_1_bn[0][0]']      \n",
            " n)                                                                                               \n",
            "                                                                                                  \n",
            " conv3_block2_2_conv (Conv2D)   (None, 28, 28, 128)  147584      ['conv3_block2_1_relu[0][0]']    \n",
            "                                                                                                  \n",
            " conv3_block2_2_bn (BatchNormal  (None, 28, 28, 128)  512        ['conv3_block2_2_conv[0][0]']    \n",
            " ization)                                                                                         \n",
            "                                                                                                  \n",
            " conv3_block2_2_relu (Activatio  (None, 28, 28, 128)  0          ['conv3_block2_2_bn[0][0]']      \n",
            " n)                                                                                               \n",
            "                                                                                                  \n",
            " conv3_block2_3_conv (Conv2D)   (None, 28, 28, 512)  66048       ['conv3_block2_2_relu[0][0]']    \n",
            "                                                                                                  \n",
            " conv3_block2_3_bn (BatchNormal  (None, 28, 28, 512)  2048       ['conv3_block2_3_conv[0][0]']    \n",
            " ization)                                                                                         \n",
            "                                                                                                  \n",
            " conv3_block2_add (Add)         (None, 28, 28, 512)  0           ['conv3_block1_out[0][0]',       \n",
            "                                                                  'conv3_block2_3_bn[0][0]']      \n",
            "                                                                                                  \n",
            " conv3_block2_out (Activation)  (None, 28, 28, 512)  0           ['conv3_block2_add[0][0]']       \n",
            "                                                                                                  \n",
            " conv3_block3_1_conv (Conv2D)   (None, 28, 28, 128)  65664       ['conv3_block2_out[0][0]']       \n",
            "                                                                                                  \n",
            " conv3_block3_1_bn (BatchNormal  (None, 28, 28, 128)  512        ['conv3_block3_1_conv[0][0]']    \n",
            " ization)                                                                                         \n",
            "                                                                                                  \n",
            " conv3_block3_1_relu (Activatio  (None, 28, 28, 128)  0          ['conv3_block3_1_bn[0][0]']      \n",
            " n)                                                                                               \n",
            "                                                                                                  \n",
            " conv3_block3_2_conv (Conv2D)   (None, 28, 28, 128)  147584      ['conv3_block3_1_relu[0][0]']    \n",
            "                                                                                                  \n",
            " conv3_block3_2_bn (BatchNormal  (None, 28, 28, 128)  512        ['conv3_block3_2_conv[0][0]']    \n",
            " ization)                                                                                         \n",
            "                                                                                                  \n",
            " conv3_block3_2_relu (Activatio  (None, 28, 28, 128)  0          ['conv3_block3_2_bn[0][0]']      \n",
            " n)                                                                                               \n",
            "                                                                                                  \n",
            " conv3_block3_3_conv (Conv2D)   (None, 28, 28, 512)  66048       ['conv3_block3_2_relu[0][0]']    \n",
            "                                                                                                  \n",
            " conv3_block3_3_bn (BatchNormal  (None, 28, 28, 512)  2048       ['conv3_block3_3_conv[0][0]']    \n",
            " ization)                                                                                         \n",
            "                                                                                                  \n",
            " conv3_block3_add (Add)         (None, 28, 28, 512)  0           ['conv3_block2_out[0][0]',       \n",
            "                                                                  'conv3_block3_3_bn[0][0]']      \n",
            "                                                                                                  \n",
            " conv3_block3_out (Activation)  (None, 28, 28, 512)  0           ['conv3_block3_add[0][0]']       \n",
            "                                                                                                  \n",
            " conv3_block4_1_conv (Conv2D)   (None, 28, 28, 128)  65664       ['conv3_block3_out[0][0]']       \n",
            "                                                                                                  \n",
            " conv3_block4_1_bn (BatchNormal  (None, 28, 28, 128)  512        ['conv3_block4_1_conv[0][0]']    \n",
            " ization)                                                                                         \n",
            "                                                                                                  \n",
            " conv3_block4_1_relu (Activatio  (None, 28, 28, 128)  0          ['conv3_block4_1_bn[0][0]']      \n",
            " n)                                                                                               \n",
            "                                                                                                  \n",
            " conv3_block4_2_conv (Conv2D)   (None, 28, 28, 128)  147584      ['conv3_block4_1_relu[0][0]']    \n",
            "                                                                                                  \n",
            " conv3_block4_2_bn (BatchNormal  (None, 28, 28, 128)  512        ['conv3_block4_2_conv[0][0]']    \n",
            " ization)                                                                                         \n",
            "                                                                                                  \n",
            " conv3_block4_2_relu (Activatio  (None, 28, 28, 128)  0          ['conv3_block4_2_bn[0][0]']      \n",
            " n)                                                                                               \n",
            "                                                                                                  \n",
            " conv3_block4_3_conv (Conv2D)   (None, 28, 28, 512)  66048       ['conv3_block4_2_relu[0][0]']    \n",
            "                                                                                                  \n",
            " conv3_block4_3_bn (BatchNormal  (None, 28, 28, 512)  2048       ['conv3_block4_3_conv[0][0]']    \n",
            " ization)                                                                                         \n",
            "                                                                                                  \n",
            " conv3_block4_add (Add)         (None, 28, 28, 512)  0           ['conv3_block3_out[0][0]',       \n",
            "                                                                  'conv3_block4_3_bn[0][0]']      \n",
            "                                                                                                  \n",
            " conv3_block4_out (Activation)  (None, 28, 28, 512)  0           ['conv3_block4_add[0][0]']       \n",
            "                                                                                                  \n",
            " conv4_block1_1_conv (Conv2D)   (None, 14, 14, 256)  131328      ['conv3_block4_out[0][0]']       \n",
            "                                                                                                  \n",
            " conv4_block1_1_bn (BatchNormal  (None, 14, 14, 256)  1024       ['conv4_block1_1_conv[0][0]']    \n",
            " ization)                                                                                         \n",
            "                                                                                                  \n",
            " conv4_block1_1_relu (Activatio  (None, 14, 14, 256)  0          ['conv4_block1_1_bn[0][0]']      \n",
            " n)                                                                                               \n",
            "                                                                                                  \n",
            " conv4_block1_2_conv (Conv2D)   (None, 14, 14, 256)  590080      ['conv4_block1_1_relu[0][0]']    \n",
            "                                                                                                  \n",
            " conv4_block1_2_bn (BatchNormal  (None, 14, 14, 256)  1024       ['conv4_block1_2_conv[0][0]']    \n",
            " ization)                                                                                         \n",
            "                                                                                                  \n",
            " conv4_block1_2_relu (Activatio  (None, 14, 14, 256)  0          ['conv4_block1_2_bn[0][0]']      \n",
            " n)                                                                                               \n",
            "                                                                                                  \n",
            " conv4_block1_0_conv (Conv2D)   (None, 14, 14, 1024  525312      ['conv3_block4_out[0][0]']       \n",
            "                                )                                                                 \n",
            "                                                                                                  \n",
            " conv4_block1_3_conv (Conv2D)   (None, 14, 14, 1024  263168      ['conv4_block1_2_relu[0][0]']    \n",
            "                                )                                                                 \n",
            "                                                                                                  \n",
            " conv4_block1_0_bn (BatchNormal  (None, 14, 14, 1024  4096       ['conv4_block1_0_conv[0][0]']    \n",
            " ization)                       )                                                                 \n",
            "                                                                                                  \n",
            " conv4_block1_3_bn (BatchNormal  (None, 14, 14, 1024  4096       ['conv4_block1_3_conv[0][0]']    \n",
            " ization)                       )                                                                 \n",
            "                                                                                                  \n",
            " conv4_block1_add (Add)         (None, 14, 14, 1024  0           ['conv4_block1_0_bn[0][0]',      \n",
            "                                )                                 'conv4_block1_3_bn[0][0]']      \n",
            "                                                                                                  \n",
            " conv4_block1_out (Activation)  (None, 14, 14, 1024  0           ['conv4_block1_add[0][0]']       \n",
            "                                )                                                                 \n",
            "                                                                                                  \n",
            " conv4_block2_1_conv (Conv2D)   (None, 14, 14, 256)  262400      ['conv4_block1_out[0][0]']       \n",
            "                                                                                                  \n",
            " conv4_block2_1_bn (BatchNormal  (None, 14, 14, 256)  1024       ['conv4_block2_1_conv[0][0]']    \n",
            " ization)                                                                                         \n",
            "                                                                                                  \n",
            " conv4_block2_1_relu (Activatio  (None, 14, 14, 256)  0          ['conv4_block2_1_bn[0][0]']      \n",
            " n)                                                                                               \n",
            "                                                                                                  \n",
            " conv4_block2_2_conv (Conv2D)   (None, 14, 14, 256)  590080      ['conv4_block2_1_relu[0][0]']    \n",
            "                                                                                                  \n",
            " conv4_block2_2_bn (BatchNormal  (None, 14, 14, 256)  1024       ['conv4_block2_2_conv[0][0]']    \n",
            " ization)                                                                                         \n",
            "                                                                                                  \n",
            " conv4_block2_2_relu (Activatio  (None, 14, 14, 256)  0          ['conv4_block2_2_bn[0][0]']      \n",
            " n)                                                                                               \n",
            "                                                                                                  \n",
            " conv4_block2_3_conv (Conv2D)   (None, 14, 14, 1024  263168      ['conv4_block2_2_relu[0][0]']    \n",
            "                                )                                                                 \n",
            "                                                                                                  \n",
            " conv4_block2_3_bn (BatchNormal  (None, 14, 14, 1024  4096       ['conv4_block2_3_conv[0][0]']    \n",
            " ization)                       )                                                                 \n",
            "                                                                                                  \n",
            " conv4_block2_add (Add)         (None, 14, 14, 1024  0           ['conv4_block1_out[0][0]',       \n",
            "                                )                                 'conv4_block2_3_bn[0][0]']      \n",
            "                                                                                                  \n",
            " conv4_block2_out (Activation)  (None, 14, 14, 1024  0           ['conv4_block2_add[0][0]']       \n",
            "                                )                                                                 \n",
            "                                                                                                  \n",
            " conv4_block3_1_conv (Conv2D)   (None, 14, 14, 256)  262400      ['conv4_block2_out[0][0]']       \n",
            "                                                                                                  \n",
            " conv4_block3_1_bn (BatchNormal  (None, 14, 14, 256)  1024       ['conv4_block3_1_conv[0][0]']    \n",
            " ization)                                                                                         \n",
            "                                                                                                  \n",
            " conv4_block3_1_relu (Activatio  (None, 14, 14, 256)  0          ['conv4_block3_1_bn[0][0]']      \n",
            " n)                                                                                               \n",
            "                                                                                                  \n",
            " conv4_block3_2_conv (Conv2D)   (None, 14, 14, 256)  590080      ['conv4_block3_1_relu[0][0]']    \n",
            "                                                                                                  \n",
            " conv4_block3_2_bn (BatchNormal  (None, 14, 14, 256)  1024       ['conv4_block3_2_conv[0][0]']    \n",
            " ization)                                                                                         \n",
            "                                                                                                  \n",
            " conv4_block3_2_relu (Activatio  (None, 14, 14, 256)  0          ['conv4_block3_2_bn[0][0]']      \n",
            " n)                                                                                               \n",
            "                                                                                                  \n",
            " conv4_block3_3_conv (Conv2D)   (None, 14, 14, 1024  263168      ['conv4_block3_2_relu[0][0]']    \n",
            "                                )                                                                 \n",
            "                                                                                                  \n",
            " conv4_block3_3_bn (BatchNormal  (None, 14, 14, 1024  4096       ['conv4_block3_3_conv[0][0]']    \n",
            " ization)                       )                                                                 \n",
            "                                                                                                  \n",
            " conv4_block3_add (Add)         (None, 14, 14, 1024  0           ['conv4_block2_out[0][0]',       \n",
            "                                )                                 'conv4_block3_3_bn[0][0]']      \n",
            "                                                                                                  \n",
            " conv4_block3_out (Activation)  (None, 14, 14, 1024  0           ['conv4_block3_add[0][0]']       \n",
            "                                )                                                                 \n",
            "                                                                                                  \n",
            " conv4_block4_1_conv (Conv2D)   (None, 14, 14, 256)  262400      ['conv4_block3_out[0][0]']       \n",
            "                                                                                                  \n",
            " conv4_block4_1_bn (BatchNormal  (None, 14, 14, 256)  1024       ['conv4_block4_1_conv[0][0]']    \n",
            " ization)                                                                                         \n",
            "                                                                                                  \n",
            " conv4_block4_1_relu (Activatio  (None, 14, 14, 256)  0          ['conv4_block4_1_bn[0][0]']      \n",
            " n)                                                                                               \n",
            "                                                                                                  \n",
            " conv4_block4_2_conv (Conv2D)   (None, 14, 14, 256)  590080      ['conv4_block4_1_relu[0][0]']    \n",
            "                                                                                                  \n",
            " conv4_block4_2_bn (BatchNormal  (None, 14, 14, 256)  1024       ['conv4_block4_2_conv[0][0]']    \n",
            " ization)                                                                                         \n",
            "                                                                                                  \n",
            " conv4_block4_2_relu (Activatio  (None, 14, 14, 256)  0          ['conv4_block4_2_bn[0][0]']      \n",
            " n)                                                                                               \n",
            "                                                                                                  \n",
            " conv4_block4_3_conv (Conv2D)   (None, 14, 14, 1024  263168      ['conv4_block4_2_relu[0][0]']    \n",
            "                                )                                                                 \n",
            "                                                                                                  \n",
            " conv4_block4_3_bn (BatchNormal  (None, 14, 14, 1024  4096       ['conv4_block4_3_conv[0][0]']    \n",
            " ization)                       )                                                                 \n",
            "                                                                                                  \n",
            " conv4_block4_add (Add)         (None, 14, 14, 1024  0           ['conv4_block3_out[0][0]',       \n",
            "                                )                                 'conv4_block4_3_bn[0][0]']      \n",
            "                                                                                                  \n",
            " conv4_block4_out (Activation)  (None, 14, 14, 1024  0           ['conv4_block4_add[0][0]']       \n",
            "                                )                                                                 \n",
            "                                                                                                  \n",
            " conv4_block5_1_conv (Conv2D)   (None, 14, 14, 256)  262400      ['conv4_block4_out[0][0]']       \n",
            "                                                                                                  \n",
            " conv4_block5_1_bn (BatchNormal  (None, 14, 14, 256)  1024       ['conv4_block5_1_conv[0][0]']    \n",
            " ization)                                                                                         \n",
            "                                                                                                  \n",
            " conv4_block5_1_relu (Activatio  (None, 14, 14, 256)  0          ['conv4_block5_1_bn[0][0]']      \n",
            " n)                                                                                               \n",
            "                                                                                                  \n",
            " conv4_block5_2_conv (Conv2D)   (None, 14, 14, 256)  590080      ['conv4_block5_1_relu[0][0]']    \n",
            "                                                                                                  \n",
            " conv4_block5_2_bn (BatchNormal  (None, 14, 14, 256)  1024       ['conv4_block5_2_conv[0][0]']    \n",
            " ization)                                                                                         \n",
            "                                                                                                  \n",
            " conv4_block5_2_relu (Activatio  (None, 14, 14, 256)  0          ['conv4_block5_2_bn[0][0]']      \n",
            " n)                                                                                               \n",
            "                                                                                                  \n",
            " conv4_block5_3_conv (Conv2D)   (None, 14, 14, 1024  263168      ['conv4_block5_2_relu[0][0]']    \n",
            "                                )                                                                 \n",
            "                                                                                                  \n",
            " conv4_block5_3_bn (BatchNormal  (None, 14, 14, 1024  4096       ['conv4_block5_3_conv[0][0]']    \n",
            " ization)                       )                                                                 \n",
            "                                                                                                  \n",
            " conv4_block5_add (Add)         (None, 14, 14, 1024  0           ['conv4_block4_out[0][0]',       \n",
            "                                )                                 'conv4_block5_3_bn[0][0]']      \n",
            "                                                                                                  \n",
            " conv4_block5_out (Activation)  (None, 14, 14, 1024  0           ['conv4_block5_add[0][0]']       \n",
            "                                )                                                                 \n",
            "                                                                                                  \n",
            " conv4_block6_1_conv (Conv2D)   (None, 14, 14, 256)  262400      ['conv4_block5_out[0][0]']       \n",
            "                                                                                                  \n",
            " conv4_block6_1_bn (BatchNormal  (None, 14, 14, 256)  1024       ['conv4_block6_1_conv[0][0]']    \n",
            " ization)                                                                                         \n",
            "                                                                                                  \n",
            " conv4_block6_1_relu (Activatio  (None, 14, 14, 256)  0          ['conv4_block6_1_bn[0][0]']      \n",
            " n)                                                                                               \n",
            "                                                                                                  \n",
            " conv4_block6_2_conv (Conv2D)   (None, 14, 14, 256)  590080      ['conv4_block6_1_relu[0][0]']    \n",
            "                                                                                                  \n",
            " conv4_block6_2_bn (BatchNormal  (None, 14, 14, 256)  1024       ['conv4_block6_2_conv[0][0]']    \n",
            " ization)                                                                                         \n",
            "                                                                                                  \n",
            " conv4_block6_2_relu (Activatio  (None, 14, 14, 256)  0          ['conv4_block6_2_bn[0][0]']      \n",
            " n)                                                                                               \n",
            "                                                                                                  \n",
            " conv4_block6_3_conv (Conv2D)   (None, 14, 14, 1024  263168      ['conv4_block6_2_relu[0][0]']    \n",
            "                                )                                                                 \n",
            "                                                                                                  \n",
            " conv4_block6_3_bn (BatchNormal  (None, 14, 14, 1024  4096       ['conv4_block6_3_conv[0][0]']    \n",
            " ization)                       )                                                                 \n",
            "                                                                                                  \n",
            " conv4_block6_add (Add)         (None, 14, 14, 1024  0           ['conv4_block5_out[0][0]',       \n",
            "                                )                                 'conv4_block6_3_bn[0][0]']      \n",
            "                                                                                                  \n",
            " conv4_block6_out (Activation)  (None, 14, 14, 1024  0           ['conv4_block6_add[0][0]']       \n",
            "                                )                                                                 \n",
            "                                                                                                  \n",
            " conv5_block1_1_conv (Conv2D)   (None, 7, 7, 512)    524800      ['conv4_block6_out[0][0]']       \n",
            "                                                                                                  \n",
            " conv5_block1_1_bn (BatchNormal  (None, 7, 7, 512)   2048        ['conv5_block1_1_conv[0][0]']    \n",
            " ization)                                                                                         \n",
            "                                                                                                  \n",
            " conv5_block1_1_relu (Activatio  (None, 7, 7, 512)   0           ['conv5_block1_1_bn[0][0]']      \n",
            " n)                                                                                               \n",
            "                                                                                                  \n",
            " conv5_block1_2_conv (Conv2D)   (None, 7, 7, 512)    2359808     ['conv5_block1_1_relu[0][0]']    \n",
            "                                                                                                  \n",
            " conv5_block1_2_bn (BatchNormal  (None, 7, 7, 512)   2048        ['conv5_block1_2_conv[0][0]']    \n",
            " ization)                                                                                         \n",
            "                                                                                                  \n",
            " conv5_block1_2_relu (Activatio  (None, 7, 7, 512)   0           ['conv5_block1_2_bn[0][0]']      \n",
            " n)                                                                                               \n",
            "                                                                                                  \n",
            " conv5_block1_0_conv (Conv2D)   (None, 7, 7, 2048)   2099200     ['conv4_block6_out[0][0]']       \n",
            "                                                                                                  \n",
            " conv5_block1_3_conv (Conv2D)   (None, 7, 7, 2048)   1050624     ['conv5_block1_2_relu[0][0]']    \n",
            "                                                                                                  \n",
            " conv5_block1_0_bn (BatchNormal  (None, 7, 7, 2048)  8192        ['conv5_block1_0_conv[0][0]']    \n",
            " ization)                                                                                         \n",
            "                                                                                                  \n",
            " conv5_block1_3_bn (BatchNormal  (None, 7, 7, 2048)  8192        ['conv5_block1_3_conv[0][0]']    \n",
            " ization)                                                                                         \n",
            "                                                                                                  \n",
            " conv5_block1_add (Add)         (None, 7, 7, 2048)   0           ['conv5_block1_0_bn[0][0]',      \n",
            "                                                                  'conv5_block1_3_bn[0][0]']      \n",
            "                                                                                                  \n",
            " conv5_block1_out (Activation)  (None, 7, 7, 2048)   0           ['conv5_block1_add[0][0]']       \n",
            "                                                                                                  \n",
            " conv5_block2_1_conv (Conv2D)   (None, 7, 7, 512)    1049088     ['conv5_block1_out[0][0]']       \n",
            "                                                                                                  \n",
            " conv5_block2_1_bn (BatchNormal  (None, 7, 7, 512)   2048        ['conv5_block2_1_conv[0][0]']    \n",
            " ization)                                                                                         \n",
            "                                                                                                  \n",
            " conv5_block2_1_relu (Activatio  (None, 7, 7, 512)   0           ['conv5_block2_1_bn[0][0]']      \n",
            " n)                                                                                               \n",
            "                                                                                                  \n",
            " conv5_block2_2_conv (Conv2D)   (None, 7, 7, 512)    2359808     ['conv5_block2_1_relu[0][0]']    \n",
            "                                                                                                  \n",
            " conv5_block2_2_bn (BatchNormal  (None, 7, 7, 512)   2048        ['conv5_block2_2_conv[0][0]']    \n",
            " ization)                                                                                         \n",
            "                                                                                                  \n",
            " conv5_block2_2_relu (Activatio  (None, 7, 7, 512)   0           ['conv5_block2_2_bn[0][0]']      \n",
            " n)                                                                                               \n",
            "                                                                                                  \n",
            " conv5_block2_3_conv (Conv2D)   (None, 7, 7, 2048)   1050624     ['conv5_block2_2_relu[0][0]']    \n",
            "                                                                                                  \n",
            " conv5_block2_3_bn (BatchNormal  (None, 7, 7, 2048)  8192        ['conv5_block2_3_conv[0][0]']    \n",
            " ization)                                                                                         \n",
            "                                                                                                  \n",
            " conv5_block2_add (Add)         (None, 7, 7, 2048)   0           ['conv5_block1_out[0][0]',       \n",
            "                                                                  'conv5_block2_3_bn[0][0]']      \n",
            "                                                                                                  \n",
            " conv5_block2_out (Activation)  (None, 7, 7, 2048)   0           ['conv5_block2_add[0][0]']       \n",
            "                                                                                                  \n",
            " conv5_block3_1_conv (Conv2D)   (None, 7, 7, 512)    1049088     ['conv5_block2_out[0][0]']       \n",
            "                                                                                                  \n",
            " conv5_block3_1_bn (BatchNormal  (None, 7, 7, 512)   2048        ['conv5_block3_1_conv[0][0]']    \n",
            " ization)                                                                                         \n",
            "                                                                                                  \n",
            " conv5_block3_1_relu (Activatio  (None, 7, 7, 512)   0           ['conv5_block3_1_bn[0][0]']      \n",
            " n)                                                                                               \n",
            "                                                                                                  \n",
            " conv5_block3_2_conv (Conv2D)   (None, 7, 7, 512)    2359808     ['conv5_block3_1_relu[0][0]']    \n",
            "                                                                                                  \n",
            " conv5_block3_2_bn (BatchNormal  (None, 7, 7, 512)   2048        ['conv5_block3_2_conv[0][0]']    \n",
            " ization)                                                                                         \n",
            "                                                                                                  \n",
            " conv5_block3_2_relu (Activatio  (None, 7, 7, 512)   0           ['conv5_block3_2_bn[0][0]']      \n",
            " n)                                                                                               \n",
            "                                                                                                  \n",
            " conv5_block3_3_conv (Conv2D)   (None, 7, 7, 2048)   1050624     ['conv5_block3_2_relu[0][0]']    \n",
            "                                                                                                  \n",
            " conv5_block3_3_bn (BatchNormal  (None, 7, 7, 2048)  8192        ['conv5_block3_3_conv[0][0]']    \n",
            " ization)                                                                                         \n",
            "                                                                                                  \n",
            " conv5_block3_add (Add)         (None, 7, 7, 2048)   0           ['conv5_block2_out[0][0]',       \n",
            "                                                                  'conv5_block3_3_bn[0][0]']      \n",
            "                                                                                                  \n",
            " conv5_block3_out (Activation)  (None, 7, 7, 2048)   0           ['conv5_block3_add[0][0]']       \n",
            "                                                                                                  \n",
            " global_average_pooling2d_1 (Gl  (None, 2048)        0           ['conv5_block3_out[0][0]']       \n",
            " obalAveragePooling2D)                                                                            \n",
            "                                                                                                  \n",
            " dense_3 (Dense)                (None, 1024)         2098176     ['global_average_pooling2d_1[0][0\n",
            "                                                                 ]']                              \n",
            "                                                                                                  \n",
            " dense_4 (Dense)                (None, 1024)         1049600     ['dense_3[0][0]']                \n",
            "                                                                                                  \n",
            " dropout_1 (Dropout)            (None, 1024)         0           ['dense_4[0][0]']                \n",
            "                                                                                                  \n",
            " dense_5 (Dense)                (None, 8)            8200        ['dropout_1[0][0]']              \n",
            "                                                                                                  \n",
            "==================================================================================================\n",
            "Total params: 26,743,688\n",
            "Trainable params: 26,690,568\n",
            "Non-trainable params: 53,120\n",
            "__________________________________________________________________________________________________\n"
          ]
        }
      ]
    },
    {
      "cell_type": "markdown",
      "source": [
        "<b>9- Pre-process Numpy files:</b> \n",
        "\n",
        "Here the Numpy array encoding the patient's eye-fundi are pre-processed in order to make it suitable to the format required by our models."
      ],
      "metadata": {
        "id": "sAT-K3KHPfVz"
      }
    },
    {
      "cell_type": "code",
      "source": [
        "from keras.applications.resnet import preprocess_input\n",
        "X_train = preprocess_input(X_train)\n",
        "X_test =  preprocess_input(X_test)"
      ],
      "metadata": {
        "id": "JnHC_j33OW_Z"
      },
      "execution_count": null,
      "outputs": []
    },
    {
      "cell_type": "markdown",
      "source": [
        "<b>10- Model fitting:"
      ],
      "metadata": {
        "id": "4ETEC2ALk72R"
      }
    },
    {
      "cell_type": "code",
      "source": [
        "history=model.fit(X_train, y_train, X_test, y_test, epochs = 40)"
      ],
      "metadata": {
        "colab": {
          "base_uri": "https://localhost:8080/"
        },
        "id": "XFKpJwEGOW8_",
        "outputId": "5a49d2f3-7375-4571-cee8-d705097f6ed4"
      },
      "execution_count": null,
      "outputs": [
        {
          "output_type": "stream",
          "name": "stdout",
          "text": [
            "Epoch 1/40\n",
            "617/617 [==============================] - 50s 73ms/step - loss: 1.0866 - accuracy: 0.9174 - precision: 0.8368 - recall: 0.4218 - auc: 0.9117 - val_loss: 0.8141 - val_accuracy: 0.9308 - val_precision: 0.8584 - val_recall: 0.5343 - val_auc: 0.9518 - lr: 0.0010\n",
            "Epoch 2/40\n",
            "617/617 [==============================] - 38s 62ms/step - loss: 0.6251 - accuracy: 0.9443 - precision: 0.8587 - recall: 0.6634 - auc: 0.9715 - val_loss: 0.7058 - val_accuracy: 0.9358 - val_precision: 0.7959 - val_recall: 0.6541 - val_auc: 0.9645 - lr: 0.0010\n",
            "Epoch 3/40\n",
            "617/617 [==============================] - 38s 62ms/step - loss: 0.4485 - accuracy: 0.9570 - precision: 0.8765 - recall: 0.7632 - auc: 0.9849 - val_loss: 0.6161 - val_accuracy: 0.9450 - val_precision: 0.8204 - val_recall: 0.7171 - val_auc: 0.9718 - lr: 0.0010\n",
            "Epoch 4/40\n",
            "617/617 [==============================] - 38s 62ms/step - loss: 0.3432 - accuracy: 0.9672 - precision: 0.8974 - recall: 0.8332 - auc: 0.9910 - val_loss: 0.5951 - val_accuracy: 0.9474 - val_precision: 0.8164 - val_recall: 0.7469 - val_auc: 0.9750 - lr: 0.0010\n",
            "Epoch 5/40\n",
            "617/617 [==============================] - 38s 62ms/step - loss: 0.2519 - accuracy: 0.9765 - precision: 0.9217 - recall: 0.8870 - auc: 0.9949 - val_loss: 0.6739 - val_accuracy: 0.9467 - val_precision: 0.8016 - val_recall: 0.7623 - val_auc: 0.9702 - lr: 0.0010\n",
            "Epoch 6/40\n",
            "617/617 [==============================] - 39s 63ms/step - loss: 0.1823 - accuracy: 0.9837 - precision: 0.9437 - recall: 0.9247 - auc: 0.9970 - val_loss: 0.6828 - val_accuracy: 0.9479 - val_precision: 0.8042 - val_recall: 0.7706 - val_auc: 0.9674 - lr: 0.0010\n",
            "Epoch 7/40\n",
            "617/617 [==============================] - 38s 62ms/step - loss: 0.1366 - accuracy: 0.9880 - precision: 0.9570 - recall: 0.9464 - auc: 0.9981 - val_loss: 0.7656 - val_accuracy: 0.9456 - val_precision: 0.7932 - val_recall: 0.7639 - val_auc: 0.9638 - lr: 0.0010\n",
            "155/155 [==============================] - 4s 18ms/step\n"
          ]
        }
      ]
    },
    {
      "cell_type": "markdown",
      "source": [
        "<b>11- Model evaluation:</b>\n",
        "\n",
        "When looking at the metrics below, the accuracy seems to indicate that our model perfoms pretty well (94.6%). \n",
        "\n",
        "However, the accuracy is not the metric of choice here as our dataset originally had a class imbalance for which the precision (how well the model correctly makes a prediction) and the recall (how often it detects the correct category) are better suited.\n",
        "\n",
        "Even though we tried to compensate this imbalance by generating further images, there are limitations to this methods <i>(see V- Conclusion.ipynb)</i>. \n",
        "\n",
        "Morevoer, in the context of medical tests, the relevant metrics to look at are the true vs false positive and negative populations. \n",
        "\n",
        "These factors are components of the precision and the recall metrics, which values here moderate the results of the accuracy (79.3% & 76.4% respectively)."
      ],
      "metadata": {
        "id": "s1MnFzQPzrOP"
      }
    },
    {
      "cell_type": "code",
      "source": [
        "model.print_evaluation()"
      ],
      "metadata": {
        "id": "gKUtx2GCQGPu",
        "colab": {
          "base_uri": "https://localhost:8080/"
        },
        "outputId": "ba56e007-5408-4c4e-ffff-83091932799c"
      },
      "execution_count": null,
      "outputs": [
        {
          "output_type": "stream",
          "name": "stdout",
          "text": [
            "155/155 - 3s - loss: 0.7656 - accuracy: 0.9456 - precision: 0.7932 - recall: 0.7639 - auc: 0.9638 - 3s/epoch - 20ms/step\n",
            "loss :  0.765558123588562\n",
            "accuracy :  0.9455927014350891\n",
            "precision :  0.7931832671165466\n",
            "recall :  0.7639310956001282\n",
            "auc :  0.9637510776519775\n",
            "kappa:  0.7472866849024971\n",
            "F1_score:  0.9455927051671732\n"
          ]
        }
      ]
    },
    {
      "cell_type": "markdown",
      "source": [
        "And when plotting the training <i>vs.</i> validation accuracy, the disconnect between both curves seems to confirm that our model poorly performs. "
      ],
      "metadata": {
        "id": "j7phP5ByGcO5"
      }
    },
    {
      "cell_type": "code",
      "source": [
        "# Plot the accuracy: \n",
        "# Set the grah:\n",
        "plt.xlabel('Epochs')\n",
        "plt.ylabel('Accuracy')\n",
        "# Plot the training accuracy:\n",
        "plt.plot(model.training_history.history['accuracy'],\n",
        "         label = 'Training Accuracy',\n",
        "         color = 'blue')\n",
        "# Plot the test accuracy (validation):\n",
        "plt.plot(model.training_history.history['val_accuracy'],\n",
        "         label = 'Validation Accuracy',\n",
        "         color = 'red')\n",
        "# Set the legent:\n",
        "plt.legend()\n",
        "# Show:\n",
        "plt.show()"
      ],
      "metadata": {
        "colab": {
          "base_uri": "https://localhost:8080/",
          "height": 279
        },
        "id": "KjighbSHSqtD",
        "outputId": "94a0c2da-4c3b-468f-aa98-5365ca90fb0e"
      },
      "execution_count": null,
      "outputs": [
        {
          "output_type": "display_data",
          "data": {
            "text/plain": [
              "<Figure size 432x288 with 1 Axes>"
            ],
            "image/png": "[encoded data removed]"
          },
          "metadata": {
            "needs_background": "light"
          }
        }
      ]
    },
    {
      "cell_type": "markdown",
      "source": [
        "Along with the loss metric values, we see that, based on the results on the validation dataset, that our model is actually overfitting."
      ],
      "metadata": {
        "id": "_cD9t_WZGxye"
      }
    },
    {
      "cell_type": "code",
      "source": [
        "# Set the grah:\n",
        "plt.xlabel('Epochs')\n",
        "plt.ylabel('Loss')\n",
        "# Plot the training accuracy:\n",
        "plt.plot(model.training_history.history['loss'],\n",
        "         label = 'Training Loss',\n",
        "         color = 'blue')\n",
        "# Plot the test accuracy (validation):\n",
        "plt.plot(model.training_history.history['val_loss'],\n",
        "         label = 'Validation Loss',\n",
        "         color = 'red')\n",
        "# Set the legent:\n",
        "plt.legend()\n",
        "# Show:\n",
        "plt.show()"
      ],
      "metadata": {
        "colab": {
          "base_uri": "https://localhost:8080/",
          "height": 279
        },
        "id": "9sJ04gA9Dgvl",
        "outputId": "a4952bc1-3304-4ee0-980c-91e0b6838235"
      },
      "execution_count": null,
      "outputs": [
        {
          "output_type": "display_data",
          "data": {
            "text/plain": [
              "<Figure size 432x288 with 1 Axes>"
            ],
            "image/png": "[encoded data removed]"
          },
          "metadata": {
            "needs_background": "light"
          }
        }
      ]
    },
    {
      "cell_type": "markdown",
      "source": [
        "Since we have a multilabel classification model, it is detrimental to look further into the detailed results for each individual category/class rather than the overall results. \n",
        "\n",
        "Doing so, we can clearly see based on the precision, recall & f1-score values below that our model poorly identifies some classes (# 2, 6 & 7)."
      ],
      "metadata": {
        "id": "39cARpZGEUGF"
      }
    },
    {
      "cell_type": "code",
      "source": [
        "# from tensorflow.keras.models import Model\n",
        "\n",
        "y_pred_class = model.y_pred.argmax(axis = 1)\n",
        "y_test_class = y_test.argmax(axis = 1)\n",
        "\n",
        "print(metrics.classification_report(y_test_class, y_pred_class))"
      ],
      "metadata": {
        "id": "YdY3dccBQGM4",
        "colab": {
          "base_uri": "https://localhost:8080/"
        },
        "outputId": "0a26de61-b672-4263-be26-451ffbd83144"
      },
      "execution_count": null,
      "outputs": [
        {
          "output_type": "stream",
          "name": "stdout",
          "text": [
            "              precision    recall  f1-score   support\n",
            "\n",
            "           0       0.87      0.99      0.92       604\n",
            "           1       0.97      0.99      0.98       621\n",
            "           2       0.62      0.43      0.51       661\n",
            "           3       0.96      0.81      0.88       631\n",
            "           4       0.86      0.97      0.91       620\n",
            "           5       0.98      0.98      0.98       629\n",
            "           6       0.45      0.57      0.50       617\n",
            "           7       0.48      0.46      0.47       552\n",
            "\n",
            "    accuracy                           0.78      4935\n",
            "   macro avg       0.77      0.77      0.77      4935\n",
            "weighted avg       0.78      0.78      0.77      4935\n",
            "\n"
          ]
        }
      ]
    },
    {
      "cell_type": "markdown",
      "source": [
        "Using a confusion matrix, we can also determine that though our model seems to do a better job at identifying the class #2 (hence the \"better\" precision when compared to the classes #6 & 7), it clearly struggles to discriminate both classes #6 & 7. \n",
        "\n",
        "Interestingly, these 3 classes (#2, 6 & 7) correspond to the larges classes of our dataset ('Diabetes', 'Normal', 'Others', respectively), which each represent 25 to 30% of our dataset. "
      ],
      "metadata": {
        "id": "6mqOi7aOH6nL"
      }
    },
    {
      "cell_type": "code",
      "source": [
        "import warnings\n",
        "warnings.filterwarnings(\"ignore\")\n",
        "\n",
        "#labels = ['AMD', 'Cataract', 'Diabetes', 'Glaucoma', 'Hypertension', 'Myopia', 'Normal', 'Others']\n",
        "\n",
        "cm = confusion_matrix(y_test_class, y_pred_class)\n",
        "cmd = ConfusionMatrixDisplay(cm, display_labels=True)\n",
        "\n",
        "fig = plt.figure(figsize=(8,8))\n",
        "ax = fig.add_subplot(111)\n",
        "plt.title('Confusion matrix', fontweight=\"bold\", fontsize=14)\n",
        "cax = ax.matshow(cm)\n",
        "fig.colorbar(cax)\n",
        "\n",
        "plt.xlabel('Predicted', fontweight=\"bold\", fontsize=12)\n",
        "#ax.set_xticklabels([''] + labels, rotation = 90)\n",
        "ax.xaxis.set_ticks_position('bottom')\n",
        "\n",
        "plt.ylabel('True', fontweight=\"bold\", fontsize=12)\n",
        "#ax.set_yticklabels([''] + labels)\n",
        "\n",
        "for i, j in itertools.product(range(cm.shape[0]), range(cm.shape[1])):\n",
        "  plt.text(j, i, cm[i, j],\n",
        "           horizontalalignment=\"center\",\n",
        "           color=\"white\" if cm[i, j] > ( cm.max() / 2) else \"black\")\n"
      ],
      "metadata": {
        "colab": {
          "base_uri": "https://localhost:8080/",
          "height": 472
        },
        "id": "NYKiqspcV8iA",
        "outputId": "d4976900-534b-463c-a576-61cda98dabe0"
      },
      "execution_count": null,
      "outputs": [
        {
          "output_type": "display_data",
          "data": {
            "text/plain": [
              "<Figure size 576x576 with 2 Axes>"
            ],
            "image/png": "[encoded data removed]"
          },
          "metadata": {
            "needs_background": "light"
          }
        }
      ]
    },
    {
      "cell_type": "markdown",
      "source": [
        "#CONCLUSION:\n",
        "The results presented above are consistent no matter which model we used or which adjustments we made. \n",
        "\n",
        "Indeed, the number of layers did not improve our models. And while the number of neurons improved the overall accuracy, it also increase the risk of reaching model overfitting. \n",
        "\n",
        "<b>Based on these results, the main issue to address at this stage to improve our model is the image processing. Indeed: </b>\n",
        "\n",
        "- knowing that the datagenerator can only perform a limited number of operations, and given that it multiplied up to 12 times the number of eye-fundi originally assigned to some classes, the quantity of images generated using this method lead to a decrease in their diversity, hence a greater homogeneity of the less represented classes.\n",
        "<br>This would imply that our model performs better at discriminating homogenous classes versus heterogenous ones.\n",
        "<br><i>--> To address this issue, one solution could be to feed the less-represented classes with more patients' eye-fundi in order to increase the diversity of images while balancing the classes</i>.\n",
        "\n",
        "- there are limitations due to the disparity or diseases adressed here. \n",
        "<br>While some seem easy to discriminate even by a non-expert (e.g. caratact, <i>see\n",
        "TV1_ODIR19/III-Image_processing/</i>), others require to look at very specific areas of the fundus (e.g. glaucoma, characterized by modifications of a cup/disk (C/D) ratio in the region where the optic nerve and blood vessels go through the retina).\n",
        "<br><i>--> This requires to process the images using image segmentation</i>.\n",
        "\n",
        "- some eye-fundi have been assigned to a given disease even if only 'suspected' (<i>see README.md</i>). <br>This could mean that near-normal images are present in some classes and could generate some background \"noise\" in our classification.  <br><i>--> The weight of such images within the dataset <u> and within each class</u> has to be addressed prior and after the image processing as generating new images could also artificially changed the weight of such images within each class</i>.\n",
        "\n",
        "<b>Thus, it seems detrimental to further work on the image processing step prior trying to further improve any classification model.\n"
      ],
      "metadata": {
        "id": "Ggk3JDeNv7xO"
      }
    }
  ]
}