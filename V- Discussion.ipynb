{
 "cells": [
  {
   "cell_type": "markdown",
   "id": "ed4dcf57-0cb2-49c6-8e1b-3e026d15225b",
   "metadata": {
    "tags": []
   },
   "source": [
    "## V- Discussion\n",
    "\n",
    "The aim of the project is to develop an AI-based classification of the diseases based on fundoscopy images of 5,000 patients from different hospitals and medical centers across China and their labels.\n",
    "\n",
    "Since there is a total of 8 labels, this project is a multiclass classification. However, there is a class imbalance that needed to be addressed, both on the technical level, prior setting a model, and on a medical level.\n",
    "\n",
    "Indeed, expert opinions could assess the clinical relevance of the weight of each class, as well as the population distribution.\n",
    "\n",
    "Indeed, discrepancies between the population affected by some diseases and the clinical history of these diseases have been identified during the data exploration.\n",
    "\n",
    "Thus, while AMD is an age-related disease with late onset, no shift to the right of the peak of distribution of the positive population was observed when compared to negative population. \n",
    "\n",
    "Moreover, the simple \"suspicion\" of a disease based on a given eye-fundus lead to the assignation of the disease to that fundus. \n",
    "\n",
    "We can question whether within a minor class, and based on their weight, near-normal images could have lead to the assignation of the disease at earlier stage of the diseases, leading to the inclusion of younger patients within and class and affecting the distribution of its positive population.\n",
    "\n",
    "Another issue was the assignation of the <i>labels</i>. Indeed, labels were assigned to each patient, based on both of the <i>diagnostic keywords</i> assigned to each eye fundus.\n",
    "\n",
    "With 2 fundus per patients and over 90 <i>diagnostic keywords</i>, there were 37 <i>labels</i> and label combination possible per patient.\n",
    "\n",
    "Out of praticality, I cleaned the data by focusing only on the most frequent <i>diagnostic keywords</i> and label combination.  \n",
    "\n",
    "However, given the proper expert opinion, I would have determined whether the discarded <i>diagnostic keywords</i> could have been assigned to specific labels.\n",
    "\n",
    "An additional issue seems to lay in the rules set to determine which <i>label</i> to assign <i>(see README.md)</i>.\n",
    "\n",
    "No matter what, given that our model aim to identify a disease based on a single eye-fundi, it was necessary to split both patient's eye-fundus to create a fundus-based dataset. \n",
    "\n",
    "Regarding the images, a quick look at the images associated to each <i>label</i> showed that some disease seem easier to discriminate, even for a non-expert eye. \n",
    "\n",
    "However, for others, a quick, non-extensive, research online showed that some diseases require to look at specific areas of the fundus, such as the region where the optic nerve and blood vessels go through the retina, to calculate a cup/disk (C/D) ratio, while others might require to look at the shape and diameters of the blood vessels. \n",
    "\n",
    "As for the image processing, using the datagenerator to balance the classes showed some limitations.\n",
    "\n",
    "While only a few number of operations could be performed using the generator given the limitation of the anatomic reality of the eye, this process could have simply lead to the creation of very homogenous dataset versus heterogenous one.\n",
    "\n",
    "And since each disease-related classes could eventually contain images considered \"suspicious\", and based on the weigth of such images within each class, there is a possibility that the use of the datagenerator could amplify near-normal images and impair the proper identification of some lables, especially for labels with only few data and were only a specific area of the fundus is the key determinant to the diagnosis. \n",
    "\n",
    "Therefore, the image processing step, and thus the results of our model, could greatly benefit from the use of image segmentation.\n",
    "\n",
    "Finally, though the results are not sufficient and can't be final in regards of the issues mentioned above, they help emphasize the importance of using the proper metrics in a classification model, as well as looking at the results into details. "
   ]
  }
 ],
 "metadata": {
  "kernelspec": {
   "display_name": "Python 3 (ipykernel)",
   "language": "python",
   "name": "python3"
  },
  "language_info": {
   "codemirror_mode": {
    "name": "ipython",
    "version": 3
   },
   "file_extension": ".py",
   "mimetype": "text/x-python",
   "name": "python",
   "nbconvert_exporter": "python",
   "pygments_lexer": "ipython3",
   "version": "3.9.7"
  }
 },
 "nbformat": 4,
 "nbformat_minor": 5
}
